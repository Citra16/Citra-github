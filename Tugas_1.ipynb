{
  "nbformat": 4,
  "nbformat_minor": 0,
  "metadata": {
    "colab": {
      "name": "Tugas_1.ipynb",
      "provenance": [],
      "authorship_tag": "ABX9TyO1gL4h5FgD5PaUwPooIAuq",
      "include_colab_link": true
    },
    "kernelspec": {
      "name": "python3",
      "display_name": "Python 3"
    },
    "language_info": {
      "name": "python"
    }
  },
  "cells": [
    {
      "cell_type": "markdown",
      "metadata": {
        "id": "view-in-github",
        "colab_type": "text"
      },
      "source": [
        "<a href=\"https://colab.research.google.com/github/Citra16/Citra-github/blob/main/Tugas_1.ipynb\" target=\"_parent\"><img src=\"https://colab.research.google.com/assets/colab-badge.svg\" alt=\"Open In Colab\"/></a>"
      ]
    },
    {
      "cell_type": "code",
      "execution_count": 2,
      "metadata": {
        "colab": {
          "base_uri": "https://localhost:8080/"
        },
        "id": "lNyDauvE0Tz_",
        "outputId": "2b46c657-f500-4019-9100-ee0a1c1a9065"
      },
      "outputs": [
        {
          "output_type": "stream",
          "name": "stdout",
          "text": [
            "Menghitung nilai tegangan, arus, atau resistansi dengan diketahui 2 variabel lain\n",
            "1. Menghitung nilai tegangan\n",
            "2. Menghitung nilai arus\n",
            "3. Menghitung nilai resistansi\n",
            "4. Selesai\n",
            "pilih option :2\n",
            "Menghitung nilai arus\n",
            "nilai tegangan =8\n",
            "nilai resistabsi =2\n",
            "nilai arus = 4.0\n"
          ]
        }
      ],
      "source": [
        "# Menghitung nilai tegangan, arus, dan resistansi\n",
        "\n",
        "print('Menghitung nilai tegangan, arus, atau resistansi dengan diketahui 2 variabel lain')\n",
        "print('1. Menghitung nilai tegangan')\n",
        "print('2. Menghitung nilai arus')\n",
        "print('3. Menghitung nilai resistansi')\n",
        "print('4. Selesai')\n",
        "\n",
        "option=int(input('pilih option :'))\n",
        "\n",
        "if option==1:\n",
        "  print('Menghitung nilai tegangan')\n",
        "  data_I=int(input('nilai arus ='))\n",
        "  data_R=int(input('nilai resistabsi ='))\n",
        "  nilai_V=data_I*data_R\n",
        "  print('nilai tegangan =', nilai_V)\n",
        "\n",
        "elif option==2:\n",
        "  print('Menghitung nilai arus')\n",
        "  data_V=int(input('nilai tegangan ='))\n",
        "  data_R=int(input('nilai resistabsi ='))\n",
        "  nilai_I=data_V/data_R\n",
        "  print('nilai arus =', nilai_I)\n",
        "\n",
        "elif option==3:\n",
        "  print('Menghitung nilai resistansi')\n",
        "  data_V=int(input('nilai tegangan ='))\n",
        "  data_I=int(input('nilai arus ='))\n",
        "  nilai_R=data_V/data_I\n",
        "  print('nilai resistansu =', nilai_R)\n",
        "\n",
        "else:\n",
        "  print('selesai')\n",
        "\n",
        "\n",
        "\n",
        "\n"
      ]
    }
  ]
}