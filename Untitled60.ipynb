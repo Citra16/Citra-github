{
  "nbformat": 4,
  "nbformat_minor": 0,
  "metadata": {
    "colab": {
      "name": "Untitled60.ipynb",
      "provenance": [],
      "authorship_tag": "ABX9TyMrXwgkCvOZFiOTyK7p8JOr",
      "include_colab_link": true
    },
    "kernelspec": {
      "name": "python3",
      "display_name": "Python 3"
    },
    "language_info": {
      "name": "python"
    }
  },
  "cells": [
    {
      "cell_type": "markdown",
      "metadata": {
        "id": "view-in-github",
        "colab_type": "text"
      },
      "source": [
        "<a href=\"https://colab.research.google.com/github/Citra16/Citra-github/blob/main/Untitled60.ipynb\" target=\"_parent\"><img src=\"https://colab.research.google.com/assets/colab-badge.svg\" alt=\"Open In Colab\"/></a>"
      ]
    },
    {
      "cell_type": "code",
      "execution_count": 3,
      "metadata": {
        "colab": {
          "base_uri": "https://localhost:8080/"
        },
        "id": "mYi9Wzbnaajh",
        "outputId": "9c510740-7caa-4be9-d271-30ce4dfd7511"
      },
      "outputs": [
        {
          "output_type": "stream",
          "name": "stdout",
          "text": [
            "Menghitung V, I, atau R dari 2 variabel lain yang diketahui\n",
            "1. Menghitung V = I x R\n",
            "2. Menghitung I = V / R\n",
            "3. Menghitung R = V / I\n",
            "4. Selesai.\n",
            "silahkan pilih option :3\n",
            "Menghitung R = V x I\n",
            "masukan nilai V =1\n",
            "masukan nilai I =1\n",
            "nilai R =  1.0\n"
          ]
        }
      ],
      "source": [
        "# membuat program menghitung nilai resistansi, tegangan, dan arus\n",
        "\n",
        "print('Menghitung V, I, atau R dari 2 variabel lain yang diketahui')\n",
        "print('1. Menghitung V = I x R')\n",
        "print('2. Menghitung I = V / R')\n",
        "print('3. Menghitung R = V / I')\n",
        "print('4. Selesai.')\n",
        "\n",
        "option=int(input('silahkan pilih option :'))\n",
        "\n",
        "if option==1:\n",
        "  print('Menghitung V = I x R')\n",
        "  data_I=int(input('masukan nilai I ='))\n",
        "  data_R=int(input('masukan nilai R ='))\n",
        "  hasil_V=data_I*data_R\n",
        "  print('nilai V =', hasil_V)\n",
        "\n",
        "elif option==2:\n",
        "  print('Menghitung I = V / R')\n",
        "  data_V=int(input('masukan nilai V ='))\n",
        "  data_R=int(input('masukan nilai R ='))\n",
        "  hasil_I=data_V/data_R\n",
        "  print('nilai I =', hasil_I)\n",
        "\n",
        "elif option==3:\n",
        "  print('Menghitung R = V x I')\n",
        "  data_V=int(input('masukan nilai V ='))\n",
        "  data_I=int(input('masukan nilai I ='))\n",
        "  hasil_R=data_V/data_I\n",
        "  print('nilai R = ', hasil_R)\n",
        "\n",
        "else:\n",
        "  print('selesai.')\n",
        "\n",
        "\n",
        "\n",
        "\n",
        "\n",
        "\n",
        "\n",
        "\n"
      ]
    }
  ]
}