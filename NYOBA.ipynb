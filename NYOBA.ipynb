{
  "nbformat": 4,
  "nbformat_minor": 0,
  "metadata": {
    "colab": {
      "name": "NYOBA.ipynb",
      "provenance": []
    },
    "kernelspec": {
      "name": "python3",
      "display_name": "Python 3"
    },
    "language_info": {
      "name": "python"
    }
  },
  "cells": [
    {
      "cell_type": "code",
      "source": [
        "def perkalian (x,y):\n",
        "  z = x * y\n",
        "  print('nilai x =', x)\n",
        "  print('nilai y =', y)\n",
        "  print('x * y =', z)\n",
        "\n",
        "perkalian(4,2)"
      ],
      "metadata": {
        "colab": {
          "base_uri": "https://localhost:8080/"
        },
        "id": "uZOciXOA2Ksg",
        "outputId": "4bd84841-ef9f-408f-cd20-8e1b47bd374b"
      },
      "execution_count": null,
      "outputs": [
        {
          "output_type": "stream",
          "name": "stdout",
          "text": [
            "nilai x = 4\n",
            "nilai y = 2\n",
            "x * y = 8\n"
          ]
        }
      ]
    }
  ]
}